{
 "cells": [
  {
   "cell_type": "code",
   "execution_count": 17,
   "metadata": {},
   "outputs": [],
   "source": [
    "import numpy as np\n",
    "import pandas as pd"
   ]
  },
  {
   "cell_type": "code",
   "execution_count": 22,
   "metadata": {},
   "outputs": [],
   "source": [
    "df = pd.read_excel('.//Datasets//products.xlsx')\n"
   ]
  },
  {
   "cell_type": "code",
   "execution_count": 23,
   "metadata": {},
   "outputs": [
    {
     "data": {
      "text/html": [
       "<div>\n",
       "<style scoped>\n",
       "    .dataframe tbody tr th:only-of-type {\n",
       "        vertical-align: middle;\n",
       "    }\n",
       "\n",
       "    .dataframe tbody tr th {\n",
       "        vertical-align: top;\n",
       "    }\n",
       "\n",
       "    .dataframe thead th {\n",
       "        text-align: right;\n",
       "    }\n",
       "</style>\n",
       "<table border=\"1\" class=\"dataframe\">\n",
       "  <thead>\n",
       "    <tr style=\"text-align: right;\">\n",
       "      <th></th>\n",
       "      <th>Order ID</th>\n",
       "      <th>Customer Name</th>\n",
       "      <th>Country</th>\n",
       "      <th>Product Category</th>\n",
       "      <th>Product</th>\n",
       "      <th>Quantity</th>\n",
       "      <th>Unit Price</th>\n",
       "      <th>Total Sales</th>\n",
       "      <th>Order Date</th>\n",
       "      <th>Salesperson</th>\n",
       "    </tr>\n",
       "  </thead>\n",
       "  <tbody>\n",
       "    <tr>\n",
       "      <th>0</th>\n",
       "      <td>1001</td>\n",
       "      <td>John Doe</td>\n",
       "      <td>USA</td>\n",
       "      <td>Electronics</td>\n",
       "      <td>Laptop</td>\n",
       "      <td>2</td>\n",
       "      <td>1000</td>\n",
       "      <td>2000</td>\n",
       "      <td>2024-01-01</td>\n",
       "      <td>Jane Smith</td>\n",
       "    </tr>\n",
       "    <tr>\n",
       "      <th>1</th>\n",
       "      <td>1002</td>\n",
       "      <td>Alice Green</td>\n",
       "      <td>UK</td>\n",
       "      <td>Electronics</td>\n",
       "      <td>Phone</td>\n",
       "      <td>5</td>\n",
       "      <td>600</td>\n",
       "      <td>3000</td>\n",
       "      <td>2024-01-02</td>\n",
       "      <td>Tom White</td>\n",
       "    </tr>\n",
       "    <tr>\n",
       "      <th>2</th>\n",
       "      <td>1003</td>\n",
       "      <td>Mike Brown</td>\n",
       "      <td>USA</td>\n",
       "      <td>Clothing</td>\n",
       "      <td>Jacket</td>\n",
       "      <td>3</td>\n",
       "      <td>80</td>\n",
       "      <td>240</td>\n",
       "      <td>2024-01-03</td>\n",
       "      <td>Jane Smith</td>\n",
       "    </tr>\n",
       "    <tr>\n",
       "      <th>3</th>\n",
       "      <td>1004</td>\n",
       "      <td>Sarah Clark</td>\n",
       "      <td>Canada</td>\n",
       "      <td>Clothing</td>\n",
       "      <td>Shirt</td>\n",
       "      <td>10</td>\n",
       "      <td>50</td>\n",
       "      <td>500</td>\n",
       "      <td>2024-01-04</td>\n",
       "      <td>Ann Baker</td>\n",
       "    </tr>\n",
       "    <tr>\n",
       "      <th>4</th>\n",
       "      <td>1005</td>\n",
       "      <td>Harry Black</td>\n",
       "      <td>Germany</td>\n",
       "      <td>Electronics</td>\n",
       "      <td>Laptop</td>\n",
       "      <td>1</td>\n",
       "      <td>1000</td>\n",
       "      <td>1000</td>\n",
       "      <td>2024-01-05</td>\n",
       "      <td>Tom White</td>\n",
       "    </tr>\n",
       "  </tbody>\n",
       "</table>\n",
       "</div>"
      ],
      "text/plain": [
       "   Order ID Customer Name  Country Product Category Product  Quantity  \\\n",
       "0      1001      John Doe      USA      Electronics  Laptop         2   \n",
       "1      1002   Alice Green       UK      Electronics   Phone         5   \n",
       "2      1003    Mike Brown      USA         Clothing  Jacket         3   \n",
       "3      1004   Sarah Clark   Canada         Clothing   Shirt        10   \n",
       "4      1005   Harry Black  Germany      Electronics  Laptop         1   \n",
       "\n",
       "   Unit Price  Total Sales Order Date Salesperson  \n",
       "0        1000         2000 2024-01-01  Jane Smith  \n",
       "1         600         3000 2024-01-02   Tom White  \n",
       "2          80          240 2024-01-03  Jane Smith  \n",
       "3          50          500 2024-01-04   Ann Baker  \n",
       "4        1000         1000 2024-01-05   Tom White  "
      ]
     },
     "execution_count": 23,
     "metadata": {},
     "output_type": "execute_result"
    }
   ],
   "source": [
    "df.head()"
   ]
  },
  {
   "cell_type": "markdown",
   "metadata": {},
   "source": [
    "# 1. Create a Pivot Table to summarize the total sales by Product Category. Show the breakdown by Country."
   ]
  },
  {
   "cell_type": "code",
   "execution_count": 25,
   "metadata": {},
   "outputs": [
    {
     "name": "stdout",
     "output_type": "stream",
     "text": [
      "Country           Canada  Germany     UK   USA\n",
      "Product Category                              \n",
      "Clothing            1300       80      0  3170\n",
      "Electronics         3900     9000  11800  8900\n",
      "Furniture            360        0   1100  3880\n"
     ]
    }
   ],
   "source": [
    "pivot_table = pd.pivot_table(df, values='Total Sales', index='Product Category', \n",
    "                             columns='Country', aggfunc='sum', fill_value=0)"
   ]
  },
  {
   "cell_type": "code",
   "execution_count": null,
   "metadata": {},
   "outputs": [],
   "source": []
  }
 ],
 "metadata": {
  "kernelspec": {
   "display_name": "Python 3",
   "language": "python",
   "name": "python3"
  },
  "language_info": {
   "codemirror_mode": {
    "name": "ipython",
    "version": 3
   },
   "file_extension": ".py",
   "mimetype": "text/x-python",
   "name": "python",
   "nbconvert_exporter": "python",
   "pygments_lexer": "ipython3",
   "version": "3.12.2"
  }
 },
 "nbformat": 4,
 "nbformat_minor": 2
}
