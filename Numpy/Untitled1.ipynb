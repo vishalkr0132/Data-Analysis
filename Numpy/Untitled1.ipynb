{
 "cells": [
  {
   "cell_type": "code",
   "execution_count": 2,
   "id": "0f5dc800",
   "metadata": {},
   "outputs": [],
   "source": [
    "import numpy as np"
   ]
  },
  {
   "cell_type": "markdown",
   "id": "18c85db6",
   "metadata": {},
   "source": [
    "# Create a 1-D array with 16 elements of integer type"
   ]
  },
  {
   "cell_type": "code",
   "execution_count": 3,
   "id": "8f907c76",
   "metadata": {},
   "outputs": [
    {
     "name": "stdout",
     "output_type": "stream",
     "text": [
      "[ 1  2  3  4  5  6  7  8  9 10 11 12 13 14 15 16]\n"
     ]
    }
   ],
   "source": [
    "arr = np.arange(1,17,dtype = int)\n",
    "print(arr)"
   ]
  },
  {
   "cell_type": "markdown",
   "id": "04d8f4b0",
   "metadata": {},
   "source": [
    "# Reshape the create array into 3-D array [where each axis will have more than one element]"
   ]
  },
  {
   "cell_type": "code",
   "execution_count": 4,
   "id": "e4e609e9",
   "metadata": {},
   "outputs": [
    {
     "name": "stdout",
     "output_type": "stream",
     "text": [
      "[[[ 1  2  3  4]\n",
      "  [ 5  6  7  8]]\n",
      "\n",
      " [[ 9 10 11 12]\n",
      "  [13 14 15 16]]]\n"
     ]
    }
   ],
   "source": [
    "arr1 = np.reshape(arr,(2,2,4))\n",
    "print(arr1)"
   ]
  },
  {
   "cell_type": "markdown",
   "id": "6ba875ec",
   "metadata": {},
   "source": [
    "# Check the total number of elements in the array"
   ]
  },
  {
   "cell_type": "code",
   "execution_count": 5,
   "id": "60ab81aa",
   "metadata": {},
   "outputs": [
    {
     "name": "stdout",
     "output_type": "stream",
     "text": [
      "16\n"
     ]
    }
   ],
   "source": [
    "arr2 = np.size(arr)\n",
    "print(arr2)"
   ]
  },
  {
   "cell_type": "markdown",
   "id": "704f5aae",
   "metadata": {},
   "source": [
    "# Convert the array elements to float type"
   ]
  },
  {
   "cell_type": "code",
   "execution_count": 7,
   "id": "6b82f9e1",
   "metadata": {},
   "outputs": [
    {
     "name": "stdout",
     "output_type": "stream",
     "text": [
      "[ 1.  2.  3.  4.  5.  6.  7.  8.  9. 10. 11. 12. 13. 14. 15. 16.]\n"
     ]
    }
   ],
   "source": [
    "arr3 = np.array(arr,dtype=float)\n",
    "print(arr3)"
   ]
  },
  {
   "cell_type": "markdown",
   "id": "5016c641",
   "metadata": {},
   "source": [
    "# Create an 2-D identity matrrix"
   ]
  },
  {
   "cell_type": "code",
   "execution_count": 10,
   "id": "37c65b5f",
   "metadata": {},
   "outputs": [
    {
     "name": "stdout",
     "output_type": "stream",
     "text": [
      "[[1. 0. 0. 0.]\n",
      " [0. 1. 0. 0.]\n",
      " [0. 0. 1. 0.]\n",
      " [0. 0. 0. 1.]]\n"
     ]
    }
   ],
   "source": [
    "arr4 = np.eye(4)\n",
    "print(arr4)"
   ]
  },
  {
   "cell_type": "markdown",
   "id": "f8f33f8b",
   "metadata": {},
   "source": [
    "# Create an 2-D array which consist of first 10 even numbers[use arange]"
   ]
  },
  {
   "cell_type": "code",
   "execution_count": 24,
   "id": "09919e9b",
   "metadata": {},
   "outputs": [
    {
     "name": "stdout",
     "output_type": "stream",
     "text": [
      "[[ 2  4  6  8 10]\n",
      " [12 14 16 18 20]]\n"
     ]
    }
   ],
   "source": [
    "arr5 = np.arange(2,22,2).reshape(2,5)\n",
    "print(arr5)"
   ]
  },
  {
   "cell_type": "markdown",
   "id": "8ce576b5",
   "metadata": {},
   "source": [
    "# Replace the 1st elements of axis = 0 by first 5 odd numbers"
   ]
  },
  {
   "cell_type": "code",
   "execution_count": 30,
   "id": "53651c1c",
   "metadata": {},
   "outputs": [
    {
     "name": "stdout",
     "output_type": "stream",
     "text": [
      "[[ 1  3  5  7  9]\n",
      " [12 14 16 18 20]]\n"
     ]
    }
   ],
   "source": [
    "arr5[0]= np.arange(1,11,2)\n",
    "print(arr5)"
   ]
  },
  {
   "cell_type": "code",
   "execution_count": 32,
   "id": "fc8a36a8",
   "metadata": {},
   "outputs": [
    {
     "name": "stdout",
     "output_type": "stream",
     "text": [
      "[[3 6]\n",
      " [8 9]]\n"
     ]
    }
   ],
   "source": [
    "a = np.array([[2,3,6],[7,8,9]])\n",
    "print(a[::,1:])"
   ]
  },
  {
   "cell_type": "markdown",
   "id": "ccb3480c",
   "metadata": {},
   "source": [
    "# perform element wise addition [use array A]"
   ]
  },
  {
   "cell_type": "code",
   "execution_count": 34,
   "id": "4fd6f817",
   "metadata": {},
   "outputs": [
    {
     "name": "stdout",
     "output_type": "stream",
     "text": [
      "[ 9 11 15]\n"
     ]
    }
   ],
   "source": [
    "arr6 = np.sum(a,axis = 0)\n",
    "print(arr6)"
   ]
  },
  {
   "cell_type": "markdown",
   "id": "7465ad8a",
   "metadata": {},
   "source": [
    "# Get the maximum elements in each axis"
   ]
  },
  {
   "cell_type": "code",
   "execution_count": 38,
   "id": "054a888b",
   "metadata": {},
   "outputs": [
    {
     "name": "stdout",
     "output_type": "stream",
     "text": [
      "[6 9]\n"
     ]
    }
   ],
   "source": [
    "arr7 = np.max(a,axis = 1)\n",
    "print(arr7)"
   ]
  },
  {
   "cell_type": "markdown",
   "id": "09f94096",
   "metadata": {},
   "source": [
    "# Get the odd Number only from the matrix A [use relational operator]"
   ]
  },
  {
   "cell_type": "code",
   "execution_count": 44,
   "id": "8228efeb",
   "metadata": {},
   "outputs": [
    {
     "name": "stdout",
     "output_type": "stream",
     "text": [
      "[3 7 9]\n"
     ]
    }
   ],
   "source": [
    "arr8 = np.array(a % 2 == 1)\n",
    "print(a[arr8])"
   ]
  },
  {
   "cell_type": "markdown",
   "id": "640a4048",
   "metadata": {},
   "source": [
    "# Generate the 10 random integers and find the standard deviation and variance"
   ]
  },
  {
   "cell_type": "code",
   "execution_count": 50,
   "id": "26473c5f",
   "metadata": {},
   "outputs": [
    {
     "name": "stdout",
     "output_type": "stream",
     "text": [
      "[ 6  5  2  6 10  2  7  4  3  8]\n",
      "2.4919871588754225\n",
      "6.21\n"
     ]
    }
   ],
   "source": [
    "arr9 = np.random.randint(1,11,10)\n",
    "std1 = np.std(arr9)\n",
    "var1 = np.var(arr9)\n",
    "print(arr9)\n",
    "print(std1)\n",
    "print(var1)"
   ]
  },
  {
   "cell_type": "markdown",
   "id": "48cc36f8",
   "metadata": {},
   "source": [
    "# Create a 3-D array [use array(),ndmin] and dispaly the shape of the array"
   ]
  },
  {
   "cell_type": "code",
   "execution_count": 52,
   "id": "375b4965",
   "metadata": {},
   "outputs": [
    {
     "name": "stdout",
     "output_type": "stream",
     "text": [
      "[[[ 0  1  2  3  4  5  6  7  8  9 10 11 12 13 14 15]]]\n"
     ]
    }
   ],
   "source": [
    "arr10 = np.arange(16)\n",
    "arr11 = np.array(arr10,ndmin=3)\n",
    "print(arr11)"
   ]
  },
  {
   "cell_type": "code",
   "execution_count": 63,
   "id": "bb1d2447",
   "metadata": {},
   "outputs": [
    {
     "name": "stdout",
     "output_type": "stream",
     "text": [
      "[[5 6]\n",
      " [3 2]\n",
      " [8 1]]\n"
     ]
    }
   ],
   "source": [
    "B = np.array([[2,5,6],[2,3,2],[1,8,1]])\n",
    "print(B[::,1:])"
   ]
  },
  {
   "cell_type": "markdown",
   "id": "02893c21",
   "metadata": {},
   "source": [
    "# perform transpose and swapaxis for the matrix B (such that both should result same answer)"
   ]
  },
  {
   "cell_type": "code",
   "execution_count": 70,
   "id": "db5fef61",
   "metadata": {},
   "outputs": [
    {
     "name": "stdout",
     "output_type": "stream",
     "text": [
      "[[2 2 1]\n",
      " [5 3 8]\n",
      " [6 2 1]]\n",
      "\n",
      "[[2 2 1]\n",
      " [5 3 8]\n",
      " [6 2 1]]\n"
     ]
    }
   ],
   "source": [
    "arr12 = np.transpose(B)\n",
    "print(arr12)\n",
    "print()\n",
    "arr13 = np.swapaxes(B,axis1 = 0, axis2 = 1)\n",
    "print(arr13)"
   ]
  },
  {
   "cell_type": "markdown",
   "id": "ea97ed0d",
   "metadata": {},
   "source": [
    "# perform column-wise concatenation (use matrix B)"
   ]
  },
  {
   "cell_type": "code",
   "execution_count": null,
   "id": "489d9181",
   "metadata": {},
   "outputs": [],
   "source": [
    "arr14 = np.con"
   ]
  }
 ],
 "metadata": {
  "kernelspec": {
   "display_name": "Python 3 (ipykernel)",
   "language": "python",
   "name": "python3"
  },
  "language_info": {
   "codemirror_mode": {
    "name": "ipython",
    "version": 3
   },
   "file_extension": ".py",
   "mimetype": "text/x-python",
   "name": "python",
   "nbconvert_exporter": "python",
   "pygments_lexer": "ipython3",
   "version": "3.10.9"
  }
 },
 "nbformat": 4,
 "nbformat_minor": 5
}
